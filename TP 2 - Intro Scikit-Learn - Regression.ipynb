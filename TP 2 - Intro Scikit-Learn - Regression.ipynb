{
 "cells": [
  {
   "cell_type": "markdown",
   "id": "stable-aluminum",
   "metadata": {},
   "source": [
    "# "
   ]
  },
  {
   "cell_type": "markdown",
   "id": "perfect-canberra",
   "metadata": {},
   "source": [
    "# Intro à Scikit-Learn"
   ]
  },
  {
   "cell_type": "markdown",
   "id": "greatest-dynamics",
   "metadata": {},
   "source": [
    "From:\n",
    "\n",
    "* [VanderPlas, Jake. 2017. Python Data Science Handbook. O’Reilly Media, Inc.](https://github.com/jakevdp/PythonDataScienceHandbook)\n",
    "* [Scikit-Learn datasets: The Iris Dataset](https://scikit-learn.org/stable/auto_examples/datasets/plot_iris_dataset.html)"
   ]
  },
  {
   "cell_type": "markdown",
   "id": "timely-parish",
   "metadata": {},
   "source": [
    "## Régression"
   ]
  },
  {
   "cell_type": "markdown",
   "id": "shared-regard",
   "metadata": {},
   "source": [
    "### Données"
   ]
  },
  {
   "cell_type": "markdown",
   "id": "pleasant-charter",
   "metadata": {},
   "source": [
    "https://scikit-learn.org/stable/datasets/toy_dataset.html#boston-dataset\n",
    "\n",
    "\n",
    "Descripteurs (features) :\n",
    "\n",
    "* `CRIM`: taux de criminalité par habitant par ville\n",
    "* `ZN`: proportion de terrains résidentiels zonés pour les lots de plus de 25 000 pi.ca.\n",
    "* `INDUS`: proportion d'acres commerciaux/non-commerciaux par ville\n",
    "* `CHAS`: variable fictive de Charles River (= 1 si la zone délimite la rivière; 0 sinon)\n",
    "* `NOX`: concentration d'oxydes nitriques (parties par 10 millions)\n",
    "* `RM`: nombre moyen de pièces par logement\n",
    "* `AGE`: proportion de logements occupés par leur propriétaire construits avant 1940\n",
    "* `DIS`: distances pondérées des cinq centres d'emploi de Boston\n",
    "* `RAD`: indice d'accessibilité aux autoroutes radiales\n",
    "* `TAX`: taux d'imposition foncière de la valeur totale par tranche de 10 000 $\n",
    "* `PTRATIO`: ratio élèves-enseignant par ville\n",
    "* `B`: 1000(A - 0.63)^2 où A est la proportion d'habitants afro-américains par ville\n",
    "* `LSTAT`: pourcentage d'habitant en dessous du seuil de pauvreté\n",
    "\n",
    "Cible (target) :\n",
    "\n",
    "* `MEDV`: Valeur médiane des logements occupés par leur propriétaire en 1 000 $"
   ]
  },
  {
   "cell_type": "code",
   "execution_count": 1,
   "id": "digital-while",
   "metadata": {},
   "outputs": [],
   "source": [
    "import matplotlib.pyplot as plt\n",
    "import numpy as np\n",
    "from matplotlib.colors import ListedColormap\n",
    "\n",
    "%config InlineBackend.figure_format='retina'  # For high DPI display"
   ]
  },
  {
   "cell_type": "markdown",
   "id": "allied-disposal",
   "metadata": {},
   "source": [
    "#### Chargement des données"
   ]
  },
  {
   "cell_type": "code",
   "execution_count": 2,
   "id": "restricted-plaintiff",
   "metadata": {},
   "outputs": [
    {
     "name": "stderr",
     "output_type": "stream",
     "text": [
      "/home/tkunda/Envs/data_sci_env/lib/python3.8/site-packages/sklearn/utils/deprecation.py:87: FutureWarning: Function load_boston is deprecated; `load_boston` is deprecated in 1.0 and will be removed in 1.2.\n",
      "\n",
      "    The Boston housing prices dataset has an ethical problem. You can refer to\n",
      "    the documentation of this function for further details.\n",
      "\n",
      "    The scikit-learn maintainers therefore strongly discourage the use of this\n",
      "    dataset unless the purpose of the code is to study and educate about\n",
      "    ethical issues in data science and machine learning.\n",
      "\n",
      "    In this special case, you can fetch the dataset from the original\n",
      "    source::\n",
      "\n",
      "        import pandas as pd\n",
      "        import numpy as np\n",
      "\n",
      "\n",
      "        data_url = \"http://lib.stat.cmu.edu/datasets/boston\"\n",
      "        raw_df = pd.read_csv(data_url, sep=\"\\s+\", skiprows=22, header=None)\n",
      "        data = np.hstack([raw_df.values[::2, :], raw_df.values[1::2, :2]])\n",
      "        target = raw_df.values[1::2, 2]\n",
      "\n",
      "    Alternative datasets include the California housing dataset (i.e.\n",
      "    :func:`~sklearn.datasets.fetch_california_housing`) and the Ames housing\n",
      "    dataset. You can load the datasets as follows::\n",
      "\n",
      "        from sklearn.datasets import fetch_california_housing\n",
      "        housing = fetch_california_housing()\n",
      "\n",
      "    for the California housing dataset and::\n",
      "\n",
      "        from sklearn.datasets import fetch_openml\n",
      "        housing = fetch_openml(name=\"house_prices\", as_frame=True)\n",
      "\n",
      "    for the Ames housing dataset.\n",
      "    \n",
      "  warnings.warn(msg, category=FutureWarning)\n"
     ]
    }
   ],
   "source": [
    "from sklearn.datasets import load_boston\n",
    "\n",
    "boston = load_boston()"
   ]
  },
  {
   "cell_type": "code",
   "execution_count": 3,
   "id": "modern-production",
   "metadata": {},
   "outputs": [
    {
     "data": {
      "text/plain": [
       "sklearn.utils.Bunch"
      ]
     },
     "execution_count": 3,
     "metadata": {},
     "output_type": "execute_result"
    }
   ],
   "source": [
    "type(boston)"
   ]
  },
  {
   "cell_type": "code",
   "execution_count": 4,
   "id": "traditional-trance",
   "metadata": {},
   "outputs": [],
   "source": [
    "from sklearn.utils import Bunch\n",
    "\n",
    "# Bunch?"
   ]
  },
  {
   "cell_type": "code",
   "execution_count": 5,
   "id": "terminal-search",
   "metadata": {},
   "outputs": [
    {
     "data": {
      "text/plain": [
       "['DESCR', 'data', 'data_module', 'feature_names', 'filename', 'target']"
      ]
     },
     "execution_count": 5,
     "metadata": {},
     "output_type": "execute_result"
    }
   ],
   "source": [
    "dir(boston)"
   ]
  },
  {
   "cell_type": "code",
   "execution_count": 6,
   "id": "polyphonic-uganda",
   "metadata": {},
   "outputs": [
    {
     "data": {
      "text/plain": [
       "numpy.ndarray"
      ]
     },
     "execution_count": 6,
     "metadata": {},
     "output_type": "execute_result"
    }
   ],
   "source": [
    "type(boston.data)"
   ]
  },
  {
   "cell_type": "code",
   "execution_count": 7,
   "id": "reverse-insulation",
   "metadata": {},
   "outputs": [
    {
     "name": "stdout",
     "output_type": "stream",
     "text": [
      "(506, 13) (506,)\n"
     ]
    }
   ],
   "source": [
    "print(boston.data.shape, boston.target.shape)"
   ]
  },
  {
   "cell_type": "code",
   "execution_count": 8,
   "id": "cognitive-lyric",
   "metadata": {},
   "outputs": [
    {
     "data": {
      "text/plain": [
       "array(['CRIM', 'ZN', 'INDUS', 'CHAS', 'NOX', 'RM', 'AGE', 'DIS', 'RAD',\n",
       "       'TAX', 'PTRATIO', 'B', 'LSTAT'], dtype='<U7')"
      ]
     },
     "execution_count": 8,
     "metadata": {},
     "output_type": "execute_result"
    }
   ],
   "source": [
    "boston.feature_names"
   ]
  },
  {
   "cell_type": "markdown",
   "id": "affiliated-culture",
   "metadata": {},
   "source": [
    "#### Sélection des données d'apprentissage"
   ]
  },
  {
   "cell_type": "code",
   "execution_count": 9,
   "id": "union-participant",
   "metadata": {},
   "outputs": [
    {
     "data": {
      "text/plain": [
       "12"
      ]
     },
     "execution_count": 9,
     "metadata": {},
     "output_type": "execute_result"
    }
   ],
   "source": [
    "FT_NAME = \"LSTAT\"\n",
    "\n",
    "idx = list(boston.feature_names).index(FT_NAME)\n",
    "idx"
   ]
  },
  {
   "cell_type": "markdown",
   "id": "hired-comparative",
   "metadata": {},
   "source": [
    "Ajout d'une dimension (`np.newaxis`) lorsqu'un seul descripteur est sélectionné, pour maintenir le format en colonne(s)."
   ]
  },
  {
   "cell_type": "code",
   "execution_count": 10,
   "id": "imported-relief",
   "metadata": {},
   "outputs": [
    {
     "data": {
      "text/plain": [
       "(506, 1)"
      ]
     },
     "execution_count": 10,
     "metadata": {},
     "output_type": "execute_result"
    }
   ],
   "source": [
    "boston.data[:, np.newaxis, 12].shape"
   ]
  },
  {
   "cell_type": "code",
   "execution_count": 11,
   "id": "83e95e4f-c856-48d9-a295-dddd9f988a87",
   "metadata": {},
   "outputs": [
    {
     "data": {
      "text/plain": [
       "(506, 1)"
      ]
     },
     "execution_count": 11,
     "metadata": {},
     "output_type": "execute_result"
    }
   ],
   "source": [
    "# ou\n",
    "boston.data[:, idx].reshape(-1, 1).shape"
   ]
  },
  {
   "cell_type": "code",
   "execution_count": 12,
   "id": "cubic-custom",
   "metadata": {},
   "outputs": [
    {
     "name": "stdout",
     "output_type": "stream",
     "text": [
      "(506, 1)\n",
      "(506,)\n"
     ]
    }
   ],
   "source": [
    "xs_1d = boston.data[:, idx].reshape(-1, 1)\n",
    "print(xs_1d.shape)\n",
    "\n",
    "ys = boston.target\n",
    "print(ys.shape)"
   ]
  },
  {
   "cell_type": "markdown",
   "id": "settled-flooring",
   "metadata": {
    "editable": true
   },
   "source": [
    "Disposition attendue des descripteurs (*features*) et des valeurs cibles (*labels*):"
   ]
  },
  {
   "cell_type": "markdown",
   "id": "accurate-information",
   "metadata": {},
   "source": [
    "![](img/05.02-samples-features.png)"
   ]
  },
  {
   "cell_type": "code",
   "execution_count": 13,
   "id": "outstanding-fifteen",
   "metadata": {},
   "outputs": [
    {
     "data": {
      "image/png": "[encoded data removed]",
      "text/plain": [
       "<Figure size 432x288 with 1 Axes>"
      ]
     },
     "metadata": {
      "image/png": {
       "height": 261,
       "width": 382
      },
      "needs_background": "light"
     },
     "output_type": "display_data"
    }
   ],
   "source": [
    "plt.scatter(xs_1d[:, -1], ys)\n",
    "plt.xlabel(FT_NAME)\n",
    "plt.ylabel(\"Median homes prices in $1000’s\")\n",
    "plt.show()"
   ]
  },
  {
   "cell_type": "markdown",
   "id": "incorporate-romania",
   "metadata": {},
   "source": [
    "##### Échantillonnage aléatoire des données d'entrainement et de test"
   ]
  },
  {
   "cell_type": "code",
   "execution_count": 14,
   "id": "selective-series",
   "metadata": {},
   "outputs": [],
   "source": [
    "from sklearn.model_selection import train_test_split\n",
    "\n",
    "xs_train, xs_test, ys_train, ys_test = train_test_split(\n",
    "    xs_1d, ys, random_state=1\n",
    ")"
   ]
  },
  {
   "cell_type": "markdown",
   "id": "missing-rugby",
   "metadata": {},
   "source": [
    "### Entrainement"
   ]
  },
  {
   "cell_type": "code",
   "execution_count": 15,
   "id": "patient-anger",
   "metadata": {},
   "outputs": [],
   "source": [
    "# 1. Choix du modèle (classe)\n",
    "from sklearn.linear_model import LinearRegression\n",
    "\n",
    "# 2. Instantiaiton\n",
    "model_1d = LinearRegression()\n",
    "\n",
    "# 3.  Apprentissage (fit) du model\n",
    "model_1d.fit(xs_train, ys_train)\n",
    "\n",
    "# 4. predict on new data\n",
    "ys_pred = model_1d.predict(xs_test)"
   ]
  },
  {
   "cell_type": "markdown",
   "id": "quality-absolute",
   "metadata": {},
   "source": [
    "### Résultats"
   ]
  },
  {
   "cell_type": "markdown",
   "id": "intelligent-hearing",
   "metadata": {},
   "source": [
    "#### Graphiques"
   ]
  },
  {
   "cell_type": "code",
   "execution_count": 16,
   "id": "lyric-donor",
   "metadata": {},
   "outputs": [
    {
     "data": {
      "image/png": "[encoded data removed]",
      "text/plain": [
       "<Figure size 432x288 with 1 Axes>"
      ]
     },
     "metadata": {
      "image/png": {
       "height": 261,
       "width": 382
      },
      "needs_background": "light"
     },
     "output_type": "display_data"
    }
   ],
   "source": [
    "# Plot outputs\n",
    "plt.scatter(xs_test[:, -1], ys_test)\n",
    "plt.plot(xs_test[:, -1], ys_pred, color=\"blue\", linewidth=3)\n",
    "plt.xlabel(FT_NAME)\n",
    "plt.ylabel(\"Median homes prices in $1000’s\")\n",
    "plt.show()"
   ]
  },
  {
   "cell_type": "markdown",
   "id": "communist-climb",
   "metadata": {},
   "source": [
    "#### Évaluations\n",
    "\n",
    "* [Mean squared error](https://en.wikipedia.org/wiki/Mean_squared_error)\n",
    "* [Coefficient of determination](https://en.wikipedia.org/wiki/Coefficient_of_determination)"
   ]
  },
  {
   "cell_type": "code",
   "execution_count": 17,
   "id": "interstate-replica",
   "metadata": {},
   "outputs": [
    {
     "name": "stdout",
     "output_type": "stream",
     "text": [
      "MSE = 46.29\n",
      "R^2 = 0.5327\n"
     ]
    }
   ],
   "source": [
    "from sklearn.metrics import mean_squared_error, r2_score\n",
    "\n",
    "mse = mean_squared_error(ys_test, ys_pred)\n",
    "r2 = r2_score(ys_test, ys_pred)\n",
    "\n",
    "print(f\"MSE = {mse:.2f}\")\n",
    "print(f\"R^2 = {r2:.4f}\")"
   ]
  },
  {
   "cell_type": "markdown",
   "id": "developing-potato",
   "metadata": {},
   "source": [
    "### Cas non-linéaires"
   ]
  },
  {
   "cell_type": "markdown",
   "id": "improved-regular",
   "metadata": {},
   "source": [
    "* Astuce: adapter la régression linéaire en transformant les données selon des fonctions de base\n",
    "* Par exemple avec une projection polynomiale:\n",
    "    $$\\hat{y} = a_0 + a_1 x + a_2 x^2 + \\cdots + a_n x^n$$\n",
    "* Notez qu'il s'agit toujours d'un modèle linéaire\n",
    "* Il est linéaire dans le sens où on ne multiplie ou ne divise jamais les coefficients\n",
    "* Le descripteur unidimensionnel $x$ est projeté dans une ou plusieurs dimensions pour permettre de modéliser des relations plus complexes entre $x$ et $y$"
   ]
  },
  {
   "cell_type": "code",
   "execution_count": 18,
   "id": "viral-architecture",
   "metadata": {},
   "outputs": [
    {
     "name": "stdout",
     "output_type": "stream",
     "text": [
      "(506, 1)\n",
      "(506, 2)\n"
     ]
    }
   ],
   "source": [
    "print(xs_1d.shape)\n",
    "xs_b = np.hstack([xs_1d, xs_1d ** 2])\n",
    "print(xs_b.shape)"
   ]
  },
  {
   "cell_type": "code",
   "execution_count": 19,
   "id": "342f9200-5b14-4c31-912d-4f533cda108b",
   "metadata": {},
   "outputs": [],
   "source": [
    "def apply_poly_basis(arr, deg=2):\n",
    "    \"\"\"\n",
    "    >>> arr = np.arange(1., 4.).reshape(-1, 1)\n",
    "    >>> arr   # Format expected by sklearn\n",
    "    array([[1.],\n",
    "           [2.],\n",
    "           [3.]])\n",
    "    >>> apply_poly_basis(arr, deg=3)\n",
    "    array([[ 1.,  1.,  1.],\n",
    "           [ 2.,  4.,  8.],\n",
    "           [ 3.,  9., 27.]])\n",
    "    \"\"\"\n",
    "    assert arr.ndim == 2\n",
    "\n",
    "    arrs = [arr ** n for n in range(1, deg + 1)]\n",
    "\n",
    "    return np.hstack(arrs)"
   ]
  },
  {
   "cell_type": "code",
   "execution_count": 20,
   "id": "announced-president",
   "metadata": {},
   "outputs": [
    {
     "data": {
      "text/plain": [
       "(127, 2)"
      ]
     },
     "execution_count": 20,
     "metadata": {},
     "output_type": "execute_result"
    }
   ],
   "source": [
    "DEG = 2\n",
    "\n",
    "xs_train_b = apply_poly_basis(xs_train, deg=DEG)\n",
    "xs_test_b = apply_poly_basis(xs_test, deg=DEG)\n",
    "xs_test_b.shape"
   ]
  },
  {
   "cell_type": "code",
   "execution_count": 21,
   "id": "interracial-congress",
   "metadata": {},
   "outputs": [],
   "source": [
    "# 1. Choix du modèle (classe)\n",
    "from sklearn.linear_model import LinearRegression\n",
    "\n",
    "# 2. Instantiaiton\n",
    "model_b = LinearRegression()\n",
    "\n",
    "# 3.  Apprentissage (fit) du model\n",
    "model_b.fit(xs_train_b, ys_train)\n",
    "\n",
    "# 4. predict on new data\n",
    "ys_pred_b = model_b.predict(xs_test_b)"
   ]
  },
  {
   "cell_type": "markdown",
   "id": "backed-mobility",
   "metadata": {},
   "source": [
    "#### Graphiques"
   ]
  },
  {
   "cell_type": "markdown",
   "id": "sudden-asian",
   "metadata": {},
   "source": [
    "Construction d'une `array` à valeurs croissantes qui s'étendent des bornes inférieure et supérieure des données pour produire le résultat de la régression sur le graphique."
   ]
  },
  {
   "cell_type": "code",
   "execution_count": 22,
   "id": "seasonal-repeat",
   "metadata": {},
   "outputs": [],
   "source": [
    "def plot_regression_line(xs, model, hop, deg=None):\n",
    "    # Les valeurs limites de la 1re colonne des descripteurs\n",
    "    x_min, x_max = xs[:, 0].min(), xs[:, 0].max()\n",
    "\n",
    "    # L'array qui s'étend sur l'amplitude de valeurs des données (de pas HOP)\n",
    "    xx = np.arange(x_min, x_max, hop).reshape(-1, 1)\n",
    "\n",
    "    # Regénération éventuelle de la base polynomiale\n",
    "    if deg is not None:\n",
    "        xx = apply_poly_basis(xx, deg=deg)\n",
    "\n",
    "    # Prédiction à l'aide du modèle pour produire la ligne de régression à tracer\n",
    "    yy_pred = model.predict(xx)\n",
    "\n",
    "    plt.plot(xx[:, 0], yy_pred, color=\"blue\", linewidth=3)"
   ]
  },
  {
   "cell_type": "code",
   "execution_count": 23,
   "id": "852f8215-48bc-4f50-abd2-a6d5d1e5eed9",
   "metadata": {},
   "outputs": [],
   "source": [
    "HOP = 0.1"
   ]
  },
  {
   "cell_type": "code",
   "execution_count": 24,
   "id": "fc47fe92-1061-4395-b492-51196b119a47",
   "metadata": {},
   "outputs": [
    {
     "data": {
      "image/png": "[encoded data removed]",
      "text/plain": [
       "<Figure size 432x288 with 1 Axes>"
      ]
     },
     "metadata": {
      "image/png": {
       "height": 248,
       "width": 369
      },
      "needs_background": "light"
     },
     "output_type": "display_data"
    }
   ],
   "source": [
    "plot_regression_line(xs_train_b, model=model_b, hop=HOP, deg=DEG)\n",
    "plt.scatter(xs_test_b[:, 0], ys_test)\n",
    "plt.show()"
   ]
  },
  {
   "cell_type": "markdown",
   "id": "working-superintendent",
   "metadata": {},
   "source": [
    "#### Évaluations"
   ]
  },
  {
   "cell_type": "code",
   "execution_count": 25,
   "id": "every-return",
   "metadata": {},
   "outputs": [
    {
     "name": "stdout",
     "output_type": "stream",
     "text": [
      "MSE = 35.98\n",
      "R^2 = 0.6367\n"
     ]
    }
   ],
   "source": [
    "mse = mean_squared_error(ys_test, ys_pred_b)\n",
    "r2 = r2_score(ys_test, ys_pred_b)\n",
    "\n",
    "print(f\"MSE = {mse:.2f}\")\n",
    "print(f\"R^2 = {r2:.4f}\")"
   ]
  },
  {
   "cell_type": "markdown",
   "id": "solid-bread",
   "metadata": {},
   "source": [
    "Coefficients $a_1$ et $a_2$ de la régression, provenant de l'équation suivante :\n",
    "\n",
    "$$\\hat{y}^{(i)} = a_0 + a_1 x_1^{(i)} + a_2 x_2^{(i)}$$"
   ]
  },
  {
   "cell_type": "code",
   "execution_count": 26,
   "id": "stock-lawsuit",
   "metadata": {},
   "outputs": [
    {
     "name": "stdout",
     "output_type": "stream",
     "text": [
      "a_1 = -2.2088, a_2 = 0.0402\n"
     ]
    }
   ],
   "source": [
    "print(\"a_1 = {:.4f}, a_2 = {:.4f}\".format(*model_b.coef_))"
   ]
  },
  {
   "cell_type": "markdown",
   "id": "employed-antique",
   "metadata": {},
   "source": [
    "## Exercice"
   ]
  },
  {
   "cell_type": "markdown",
   "id": "royal-panel",
   "metadata": {},
   "source": [
    "#### But : Tentez d'améliorer le résultat de la régression linéaire\n",
    "\n",
    "* Réalisez de nouveau la régression linéaire en utilisant l'ensemble des 13 descripteurs (*features*) proposé, au lieu d'un seul. La sélection s'opère dès l'étape :\n",
    "[Sélection des données d'apprentissage](#Sélection-des-données-d'apprentissage)\n",
    "\n",
    "* Générez d'autres descripteurs en prenant, par exemple, le carré de leurs valeurs, pour prendre en compte la non-linéarité des relations\n",
    "\n",
    "* Évaluez la performance de la régression en terme de MSE et R^2\n",
    "\n",
    "* Identifiez les descripteurs qui semblent les plus significatifs pour cette régression, en observant la valeur de leur paramètre respectif ($a_j$ via `model.coef_`)\n",
    "\n",
    "* Commentez succinctement\n",
    "\n",
    "* Notez que la visualisation pose problème lorsque que l'on utilise plus d'un descripteur (plus de 2 en particulier), elle n'est donc pas nécessaire pour cet exercice"
   ]
  },
  {
   "cell_type": "markdown",
   "id": "binding-developer",
   "metadata": {},
   "source": [
    "<span style=\"color:red\">Implémentez votre solution ci-dessous</span>"
   ]
  },
  {
   "cell_type": "markdown",
   "id": "naval-oregon",
   "metadata": {},
   "source": [
    "---"
   ]
  }
 ],
 "metadata": {
  "kernelspec": {
   "display_name": "ISD_Kernel",
   "language": "python",
   "name": "data_sci_env"
  },
  "language_info": {
   "codemirror_mode": {
    "name": "ipython",
    "version": 3
   },
   "file_extension": ".py",
   "mimetype": "text/x-python",
   "name": "python",
   "nbconvert_exporter": "python",
   "pygments_lexer": "ipython3",
   "version": "3.8.10"
  }
 },
 "nbformat": 4,
 "nbformat_minor": 5
}
